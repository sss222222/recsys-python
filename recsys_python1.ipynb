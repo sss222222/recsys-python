{
  "nbformat": 4,
  "nbformat_minor": 0,
  "metadata": {
    "colab": {
      "name": "recsys-python1.ipynb",
      "provenance": [],
      "authorship_tag": "ABX9TyO3/3Fd2YU3DzV1XcWO+Y+s",
      "include_colab_link": true
    },
    "kernelspec": {
      "name": "python3",
      "display_name": "Python 3"
    },
    "language_info": {
      "name": "python"
    }
  },
  "cells": [
    {
      "cell_type": "markdown",
      "metadata": {
        "id": "view-in-github",
        "colab_type": "text"
      },
      "source": [
        "<a href=\"https://colab.research.google.com/github/sss222222/recsys-python/blob/main/recsys_python1.ipynb\" target=\"_parent\"><img src=\"https://colab.research.google.com/assets/colab-badge.svg\" alt=\"Open In Colab\"/></a>"
      ]
    },
    {
      "cell_type": "code",
      "execution_count": null,
      "metadata": {
        "id": "IkpU3WH7l5Lb"
      },
      "outputs": [],
      "source": [
        "# 01 評価履歴の生成\n",
        "import numpy\n",
        "Du = numpy.array([[5, 3, 1],\n",
        "                 [6, 2, 1],\n",
        "                 [4, 1, 1],\n",
        "                 [8, 5, -1,],\n",
        "                 [2, 4, -1],\n",
        "                 [3, 6, -1],\n",
        "                 [7,  6, -1],\n",
        "                 [4,  2, numpy.nan],\n",
        "                 [5, 1, numpy.nan],\n",
        "                 [8, 6, numpy.nan],\n",
        "                 [3, 4, numpy.nan],\n",
        "                 [4, 7, numpy.nan],\n",
        "                 [4, 4, numpy.nan]])\n",
        "print('Du = \\n{}'.format(Du))"
      ]
    },
    {
      "cell_type": "code",
      "source": [
        "# 02 評価履歴の形状\n",
        "print('Duの形状 = {}'.format(Du.shape))"
      ],
      "metadata": {
        "colab": {
          "base_uri": "https://localhost:8080/"
        },
        "id": "Bq7fJJFtmNV4",
        "outputId": "cd447d19-4f15-4cec-86b9-fbe71673aadd"
      },
      "execution_count": null,
      "outputs": [
        {
          "output_type": "stream",
          "name": "stdout",
          "text": [
            "Duの形状 = (13, 3)\n"
          ]
        }
      ]
    },
    {
      "cell_type": "code",
      "source": [
        "# 03 評価履歴の行数\n",
        "print('Duの行数 = {}'.format(Du.shape[0]))"
      ],
      "metadata": {
        "colab": {
          "base_uri": "https://localhost:8080/"
        },
        "id": "N-2mTv9umPOS",
        "outputId": "458fce6a-6b0f-44fb-92c5-9abd0c8dbb3a"
      },
      "execution_count": null,
      "outputs": [
        {
          "output_type": "stream",
          "name": "stdout",
          "text": [
            "Duの行数 = 13\n"
          ]
        }
      ]
    },
    {
      "cell_type": "code",
      "source": [
        "# 04 評価履歴の列数\n",
        "print('Duの列数 = {}'.format(Du.shape[1]))"
      ],
      "metadata": {
        "colab": {
          "base_uri": "https://localhost:8080/"
        },
        "id": "HuzxVr39nwit",
        "outputId": "a0726023-75b5-4a68-f6de-7bd3f609e242"
      },
      "execution_count": null,
      "outputs": [
        {
          "output_type": "stream",
          "name": "stdout",
          "text": [
            "Duの列数 = 3\n"
          ]
        }
      ]
    },
    {
      "cell_type": "code",
      "source": [
        "# 05 評価履歴の全要素数\n",
        "print('Duの全要素数 = {}'.format(Du.size))"
      ],
      "metadata": {
        "colab": {
          "base_uri": "https://localhost:8080/"
        },
        "id": "CX5mZhQdoLaJ",
        "outputId": "1a1b2b37-ce5c-4256-a766-b1ca16e991d6"
      },
      "execution_count": null,
      "outputs": [
        {
          "output_type": "stream",
          "name": "stdout",
          "text": [
            "Duの全要素数 = 39\n"
          ]
        }
      ]
    },
    {
      "cell_type": "code",
      "source": [
        "# 06 アイテム集合\n",
        "I = numpy.arange(0, Du.shape[0])\n",
        "print('I = {}'.format(I))"
      ],
      "metadata": {
        "colab": {
          "base_uri": "https://localhost:8080/"
        },
        "id": "g5AXB6_ioS75",
        "outputId": "ad67a054-5c28-4840-b2e8-d286c63f2630"
      },
      "execution_count": null,
      "outputs": [
        {
          "output_type": "stream",
          "name": "stdout",
          "text": [
            "I = [ 0  1  2  3  4  5  6  7  8  9 10 11 12]\n"
          ]
        }
      ]
    },
    {
      "cell_type": "code",
      "source": [
        "# 07 アイテムの特徴ベクトルの集合\n",
        "x = Du[:, :2]\n",
        "print('x = \\n{}'.format(x))"
      ],
      "metadata": {
        "colab": {
          "base_uri": "https://localhost:8080/"
        },
        "id": "ZlVKZzaMoxif",
        "outputId": "e92057c6-2938-4af4-b235-e02975137525"
      },
      "execution_count": null,
      "outputs": [
        {
          "output_type": "stream",
          "name": "stdout",
          "text": [
            "x = \n",
            "[[5. 3.]\n",
            " [6. 2.]\n",
            " [4. 1.]\n",
            " [8. 5.]\n",
            " [2. 4.]\n",
            " [3. 6.]\n",
            " [7. 6.]\n",
            " [4. 2.]\n",
            " [5. 1.]\n",
            " [8. 6.]\n",
            " [3. 4.]\n",
            " [4. 7.]\n",
            " [4. 4.]]\n"
          ]
        }
      ]
    },
    {
      "cell_type": "code",
      "source": [
        "# 08 アイテムiの特徴ベクトル\n",
        "i = 0\n",
        "print('x{} = {}'.format(i, x[0]))"
      ],
      "metadata": {
        "colab": {
          "base_uri": "https://localhost:8080/"
        },
        "id": "uHugSTuco7iW",
        "outputId": "67964cb0-4567-4d70-dd97-22dc6177b16c"
      },
      "execution_count": null,
      "outputs": [
        {
          "output_type": "stream",
          "name": "stdout",
          "text": [
            "x0 = [5. 3.]\n"
          ]
        }
      ]
    },
    {
      "cell_type": "code",
      "source": [
        "# 09 評価値集合\n",
        "ru = Du[:, 2:3].reshape(Du.shape[0])\n",
        "print('ru = {}'.format(ru))"
      ],
      "metadata": {
        "colab": {
          "base_uri": "https://localhost:8080/"
        },
        "id": "b_JQ_s6kpGt9",
        "outputId": "285d1880-ff3b-405e-c6b2-ad3dbcd35841"
      },
      "execution_count": null,
      "outputs": [
        {
          "output_type": "stream",
          "name": "stdout",
          "text": [
            "ru = [ 1.  1.  1. -1. -1. -1. -1. nan nan nan nan nan nan]\n"
          ]
        }
      ]
    },
    {
      "cell_type": "code",
      "source": [
        "# 10 評価値集合の形状\n",
        "print('ruの形状 = {}'.format(ru.shape))"
      ],
      "metadata": {
        "colab": {
          "base_uri": "https://localhost:8080/"
        },
        "id": "Na-FTaFmpQky",
        "outputId": "0d5ead8d-fa41-43f6-e8f1-60871a83e92d"
      },
      "execution_count": null,
      "outputs": [
        {
          "output_type": "stream",
          "name": "stdout",
          "text": [
            "ruの形状 = (13,)\n"
          ]
        }
      ]
    },
    {
      "cell_type": "code",
      "source": [
        "# 11 評価値集合の全要素数\n",
        "print('ruの全要素数 = {}'.format(ru.shape[0]))"
      ],
      "metadata": {
        "colab": {
          "base_uri": "https://localhost:8080/"
        },
        "id": "RqvUantIqSoL",
        "outputId": "5a3b5bf8-1c94-490a-9ce2-afe8ba3c2592"
      },
      "execution_count": null,
      "outputs": [
        {
          "output_type": "stream",
          "name": "stdout",
          "text": [
            "ruの全要素数 = 13\n"
          ]
        }
      ]
    },
    {
      "cell_type": "code",
      "source": [
        "# 12 評価値集合の部分集合\n",
        "i = 2\n",
        "j = 5\n",
        "print('ru{}からru{}までの評価値 = {}'.format(i, j-1, ru[i:j]))"
      ],
      "metadata": {
        "colab": {
          "base_uri": "https://localhost:8080/"
        },
        "id": "yjUgzK1XrJ3J",
        "outputId": "c553bbcd-4001-4b73-f0af-2cb3c2b2a0a6"
      },
      "execution_count": null,
      "outputs": [
        {
          "output_type": "stream",
          "name": "stdout",
          "text": [
            "ru2からru4までの評価値 = [ 1. -1. -1.]\n"
          ]
        }
      ]
    },
    {
      "cell_type": "code",
      "source": [
        "# 13 評価値集合の要素の逆順\n",
        "print('ruの逆順 = {}'.format(ru[::-1]))"
      ],
      "metadata": {
        "colab": {
          "base_uri": "https://localhost:8080/"
        },
        "id": "J6N0VcXgrWf-",
        "outputId": "6c19bf04-8742-4d3f-8fe6-022dcbba18de"
      },
      "execution_count": null,
      "outputs": [
        {
          "output_type": "stream",
          "name": "stdout",
          "text": [
            "ruの逆順 = [nan nan nan nan nan nan -1. -1. -1. -1.  1.  1.  1.]\n"
          ]
        }
      ]
    },
    {
      "cell_type": "code",
      "source": [
        "# 14 アイテムiに対する評価値\n",
        "i = 0\n",
        "print('ru{} = {}'.format(i, ru[i]))"
      ],
      "metadata": {
        "colab": {
          "base_uri": "https://localhost:8080/"
        },
        "id": "xdaW0mSArl69",
        "outputId": "990e1b02-9aae-47aa-a869-8e3707a30313"
      },
      "execution_count": null,
      "outputs": [
        {
          "output_type": "stream",
          "name": "stdout",
          "text": [
            "ru0 = 1.0\n"
          ]
        }
      ]
    },
    {
      "cell_type": "code",
      "source": [
        "# 15 ユーザuが未評価であるか否かの判定\n",
        "print('ユーザuが未評価 = {}'.format(numpy.isnan(ru)))"
      ],
      "metadata": {
        "colab": {
          "base_uri": "https://localhost:8080/"
        },
        "id": "6lDY-LevsQTf",
        "outputId": "55085b79-8a9d-4dd2-831c-45a4a6992b25"
      },
      "execution_count": null,
      "outputs": [
        {
          "output_type": "stream",
          "name": "stdout",
          "text": [
            "ユーザuが未評価 = [False False False False False False False  True  True  True  True  True\n",
            "  True]\n"
          ]
        }
      ]
    },
    {
      "cell_type": "code",
      "source": [
        "# 16 ユーザが評価済みであるか否かの判定\n",
        "print('ユーザuが評価済み = {}'.format(~numpy.isnan(ru)))"
      ],
      "metadata": {
        "colab": {
          "base_uri": "https://localhost:8080/"
        },
        "id": "48E0qM3OtmlG",
        "outputId": "8e12b95f-8558-40d4-906e-0804b9f7d07e"
      },
      "execution_count": null,
      "outputs": [
        {
          "output_type": "stream",
          "name": "stdout",
          "text": [
            "ユーザuが評価済み = [ True  True  True  True  True  True  True False False False False False\n",
            " False]\n"
          ]
        }
      ]
    },
    {
      "cell_type": "code",
      "source": [
        "# 17 ユーザuが評価済みのアイテム集合\n",
        "Iu = I[~numpy.isnan(ru)]\n",
        "print('Iu = {}'.format(Iu))"
      ],
      "metadata": {
        "colab": {
          "base_uri": "https://localhost:8080/"
        },
        "id": "TFQBeGaFt2lS",
        "outputId": "7f8ed9f6-e03b-4000-8efb-b683c670f013"
      },
      "execution_count": null,
      "outputs": [
        {
          "output_type": "stream",
          "name": "stdout",
          "text": [
            "Iu = [0 1 2 3 4 5 6]\n"
          ]
        }
      ]
    },
    {
      "cell_type": "code",
      "source": [
        "# 18 ユーザuが「好き」と評価したアイテム集合\n",
        "Iup = I[ru == 1]\n",
        "print('Iu+ = {}'.format(Iup))"
      ],
      "metadata": {
        "colab": {
          "base_uri": "https://localhost:8080/"
        },
        "id": "uwzXzchbusbX",
        "outputId": "62c53146-e0a0-4820-d82b-add21f27641f"
      },
      "execution_count": null,
      "outputs": [
        {
          "output_type": "stream",
          "name": "stdout",
          "text": [
            "Iu+ = [0 1 2]\n"
          ]
        }
      ]
    },
    {
      "cell_type": "code",
      "source": [
        "# 19 ユーザuが「嫌い」と評価したアイテム集合\n",
        "Iun = I[ru == -1]\n",
        "print('Iu- = {}'.format(Iun))"
      ],
      "metadata": {
        "colab": {
          "base_uri": "https://localhost:8080/"
        },
        "id": "9OnMwhFxu_E2",
        "outputId": "b72f185d-b5da-4a9f-c00b-d1f94bf59113"
      },
      "execution_count": null,
      "outputs": [
        {
          "output_type": "stream",
          "name": "stdout",
          "text": [
            "Iu- = [3 4 5 6]\n"
          ]
        }
      ]
    },
    {
      "cell_type": "code",
      "source": [
        "# 20 ユーザuが未評価のアイテム集合\n",
        "Iu_not = I[numpy.isnan(ru)]\n",
        "print('Iu_not = {}'.format(Iu_not))"
      ],
      "metadata": {
        "colab": {
          "base_uri": "https://localhost:8080/"
        },
        "id": "z08qUWr4vBdd",
        "outputId": "0c169d96-e408-474b-d87c-437d8197c184"
      },
      "execution_count": null,
      "outputs": [
        {
          "output_type": "stream",
          "name": "stdout",
          "text": [
            "Iu_not = [ 7  8  9 10 11 12]\n"
          ]
        }
      ]
    },
    {
      "cell_type": "code",
      "source": [
        "# 21 訓練データ\n",
        "DuL = Du[Iu]\n",
        "print('DuL = \\n{}'.format(DuL))"
      ],
      "metadata": {
        "colab": {
          "base_uri": "https://localhost:8080/"
        },
        "id": "3Tpe1RAzvEHI",
        "outputId": "b490a548-9940-4e70-c7c6-db90a7808f9d"
      },
      "execution_count": null,
      "outputs": [
        {
          "output_type": "stream",
          "name": "stdout",
          "text": [
            "DuL = \n",
            "[[ 5.  3.  1.]\n",
            " [ 6.  2.  1.]\n",
            " [ 4.  1.  1.]\n",
            " [ 8.  5. -1.]\n",
            " [ 2.  4. -1.]\n",
            " [ 3.  6. -1.]\n",
            " [ 7.  6. -1.]]\n"
          ]
        }
      ]
    },
    {
      "cell_type": "code",
      "source": [
        "# 22 訓練事例数\n",
        "print('|DuL| = {}'.format(DuL.shape[0]))"
      ],
      "metadata": {
        "colab": {
          "base_uri": "https://localhost:8080/"
        },
        "id": "xX6I9XBdvInt",
        "outputId": "ea5971cd-39d3-46da-ebfd-e8f58f15eb6c"
      },
      "execution_count": null,
      "outputs": [
        {
          "output_type": "stream",
          "name": "stdout",
          "text": [
            "|DuL| = 7\n"
          ]
        }
      ]
    },
    {
      "cell_type": "code",
      "source": [
        "# 23 正事例数\n",
        "print('|DuL+| = {}'.format(DuL[DuL[:,2]==1].shape[0]))"
      ],
      "metadata": {
        "colab": {
          "base_uri": "https://localhost:8080/"
        },
        "id": "IF7SnmRIvSye",
        "outputId": "a53ed4d2-decf-41c8-de79-148f18760720"
      },
      "execution_count": null,
      "outputs": [
        {
          "output_type": "stream",
          "name": "stdout",
          "text": [
            "|DuL+| = 3\n"
          ]
        }
      ]
    },
    {
      "cell_type": "code",
      "source": [
        "# 24 負事例数\n",
        "print('|DuL-| = {}'.format(DuL[DuL[:,2]==-1].shape[0]))"
      ],
      "metadata": {
        "colab": {
          "base_uri": "https://localhost:8080/"
        },
        "id": "i6Bfq7F1voJt",
        "outputId": "c735fa2c-a452-4e72-8faa-9bc63741541e"
      },
      "execution_count": null,
      "outputs": [
        {
          "output_type": "stream",
          "name": "stdout",
          "text": [
            "|DuL-| = 4\n"
          ]
        }
      ]
    },
    {
      "cell_type": "code",
      "source": [
        "# 25 予測対象データ\n",
        "DuU = Du[Iu_not]\n",
        "print('DuU = \\n{}'.format(DuU))"
      ],
      "metadata": {
        "colab": {
          "base_uri": "https://localhost:8080/"
        },
        "id": "835juP59vtmL",
        "outputId": "97046ec7-ab6c-4330-c543-ba32d17777b9"
      },
      "execution_count": null,
      "outputs": [
        {
          "output_type": "stream",
          "name": "stdout",
          "text": [
            "DuU = \n",
            "[[ 4.  2. nan]\n",
            " [ 5.  1. nan]\n",
            " [ 8.  6. nan]\n",
            " [ 3.  4. nan]\n",
            " [ 4.  7. nan]\n",
            " [ 4.  4. nan]]\n"
          ]
        }
      ]
    },
    {
      "cell_type": "code",
      "source": [
        "# 26 予測対象事例数\n",
        "print('|DuU| = {}'.format(DuU.shape[0]))"
      ],
      "metadata": {
        "colab": {
          "base_uri": "https://localhost:8080/"
        },
        "id": "HBkBNQetwgtf",
        "outputId": "a3e77e2b-f48a-4a66-9909-d4c6764ae070"
      },
      "execution_count": null,
      "outputs": [
        {
          "output_type": "stream",
          "name": "stdout",
          "text": [
            "|DuU| = 6\n"
          ]
        }
      ]
    },
    {
      "cell_type": "code",
      "source": [
        ""
      ],
      "metadata": {
        "id": "ebVygu5G4FhD"
      },
      "execution_count": null,
      "outputs": []
    }
  ]
}